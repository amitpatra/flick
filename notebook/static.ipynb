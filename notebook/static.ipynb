{
 "cells": [
  {
   "cell_type": "code",
   "execution_count": null,
   "metadata": {},
   "outputs": [],
   "source": [
    "import typing\n",
    "\n",
    "import matplotlib.animation as anim\n",
    "import matplotlib.pyplot as plt\n",
    "import numpy as np\n",
    "\n",
    "import .telemetry"
   ]
  },
  {
   "cell_type": "markdown",
   "metadata": {},
   "source": [
    "# Project setup\n",
    "This notebook was made under the assumption that the telemetry data would be stored in a `data` sub-directory in the projects main folder, with files containing telemetry-data with some naming convention that incorporates some incremental counter or the time of flight."
   ]
  },
  {
   "cell_type": "code",
   "execution_count": null,
   "metadata": {},
   "outputs": [],
   "source": [
    "stream = open(\"../data/telemetry.bin\", \"rb\")"
   ]
  },
  {
   "cell_type": "markdown",
   "metadata": {},
   "source": [
    "# Position\n",
    "The position of the rocket can be graphed as a 3D line from raw position-data from the provided telemetry and plotted through matplotlib."
   ]
  },
  {
   "cell_type": "code",
   "execution_count": null,
   "metadata": {},
   "outputs": [],
   "source": [
    "snapshots = telemetry.collect_snapshots(stream)\n",
    "\n",
    "positions = np.empty([3, len(snapshots)])\n",
    "for i, snapshot in enumerate(snapshots):\n",
    "    positions[0][i] = snapshot.position[0]\n",
    "    positions[1][i] = snapshot.position[1]\n",
    "    positions[2][i] = snapshot.position[2]\n",
    "\n",
    "ax = plt.axes(projection=\"3d\")\n",
    "ax.plot3D(positions[0], positions[1], positions[2])"
   ]
  }
 ],
 "metadata": {
  "language_info": {
   "name": "python"
  },
  "orig_nbformat": 4
 },
 "nbformat": 4,
 "nbformat_minor": 2
}
